{
 "cells": [
  {
   "cell_type": "code",
   "execution_count": 1,
   "metadata": {
    "collapsed": true
   },
   "outputs": [],
   "source": [
    "import pandas as pd\n",
    "import numpy as np\n",
    "import matplotlib.pyplot as plt\n",
    "import folium\n",
    "from folium import plugins\n",
    "#import seaborn as sns\n",
    "%matplotlib inline\n",
    "from folium.plugins import HeatMap\n",
    "import os\n",
    "import random\n",
    "import urllib3\n",
    "import json\n",
    "pd.options.mode.chained_assignment = None"
   ]
  },
  {
   "cell_type": "code",
   "execution_count": 2,
   "metadata": {
    "collapsed": true
   },
   "outputs": [],
   "source": [
    "shootings = pd.read_csv('NYPD_Shooting_Incident_Data.csv')\n",
    "nycSoc = pd.read_excel('soc_2016acs5yr_nta.xlsx')\n",
    "nycDemo = pd.read_excel('demo_2016acs5yr_nta.xlsx')\n",
    "ntaToDist = pd.read_csv('https://gist.githubusercontent.com/spmich/1c52c5cca96c3d4ea9c69149def1bbe8/raw/1f6ee5c552928981de63e5a74547cd3593258565/gistfile1.txt')"
   ]
  },
  {
   "cell_type": "code",
   "execution_count": 3,
   "metadata": {
    "collapsed": true
   },
   "outputs": [],
   "source": [
    "victimShootings = shootings[['OCCUR_DATE','OCCUR_TIME','BORO','PRECINCT','VIC_AGE_GROUP','VIC_SEX','VIC_RACE','X_COORD_CD','Y_COORD_CD','Latitude','Longitude']]\n",
    "prepShootings = shootings[['OCCUR_DATE','OCCUR_TIME','BORO','PRECINCT','PERP_AGE_GROUP','PERP_SEX','PERP_RACE','X_COORD_CD','Y_COORD_CD','Latitude','Longitude']]"
   ]
  },
  {
   "cell_type": "code",
   "execution_count": 4,
   "metadata": {},
   "outputs": [],
   "source": [
    "#victimShootings.head()"
   ]
  },
  {
   "cell_type": "code",
   "execution_count": 5,
   "metadata": {},
   "outputs": [],
   "source": [
    "victimShootings['OCCUR_DATE'] = pd.to_datetime(victimShootings['OCCUR_DATE'])\n",
    "victimShootings['Year'] = victimShootings['OCCUR_DATE'].dt.year\n",
    "victimShootings.to_csv(r'C:\\Users\\LenovoPC1\\Documents\\Social Data Analysis\\Finale Project\\victimShootings.csv', index = False)"
   ]
  },
  {
   "cell_type": "code",
   "execution_count": 6,
   "metadata": {
    "collapsed": true
   },
   "outputs": [],
   "source": [
    "victimShootings.to_json(r'C:\\Users\\LenovoPC1\\Documents\\Social Data Analysis\\Finale Project\\victimShootings.json')"
   ]
  },
  {
   "cell_type": "code",
   "execution_count": 7,
   "metadata": {
    "collapsed": true
   },
   "outputs": [],
   "source": [
    "#victimShootings.groupby(['PRECINCT','Year'])\n",
    "#victimShootings.groupby(['PRECINCT', 'Year']).apply(lambda x: x.to_json(r'C:\\Users\\LenovoPC1\\Documents\\Social Data Analysis\\Finale Project\\victimShootings.json'))"
   ]
  },
  {
   "cell_type": "code",
   "execution_count": 8,
   "metadata": {},
   "outputs": [],
   "source": [
    "prepShootings = prepShootings.dropna(how='any')\n",
    "prepShootings = prepShootings[prepShootings['PERP_RACE'] != 'UNKNOWN']\n",
    "prepShootings = prepShootings[prepShootings['PERP_AGE_GROUP'] != 'UNKNOWN']\n",
    "prepShootings = prepShootings[prepShootings['PERP_SEX'] != 'UNKNOWN']\n",
    "prepShootings.to_csv(r'C:\\Users\\LenovoPC1\\Documents\\Social Data Analysis\\Finale Project\\prepShootings.csv', index = False)\n",
    "#prepShootings.head()"
   ]
  },
  {
   "cell_type": "code",
   "execution_count": 9,
   "metadata": {},
   "outputs": [
    {
     "data": {
      "text/html": [
       "<div>\n",
       "<style>\n",
       "    .dataframe thead tr:only-child th {\n",
       "        text-align: right;\n",
       "    }\n",
       "\n",
       "    .dataframe thead th {\n",
       "        text-align: left;\n",
       "    }\n",
       "\n",
       "    .dataframe tbody tr th {\n",
       "        vertical-align: top;\n",
       "    }\n",
       "</style>\n",
       "<table border=\"1\" class=\"dataframe\">\n",
       "  <thead>\n",
       "    <tr style=\"text-align: right;\">\n",
       "      <th></th>\n",
       "      <th>GeoType</th>\n",
       "      <th>GeogName</th>\n",
       "      <th>GeoID</th>\n",
       "      <th>Borough</th>\n",
       "      <th>HH1E</th>\n",
       "      <th>HH1M</th>\n",
       "      <th>HH1C</th>\n",
       "      <th>HH1P</th>\n",
       "      <th>HH1Z</th>\n",
       "      <th>Fam1E</th>\n",
       "      <th>...</th>\n",
       "      <th>OthrE</th>\n",
       "      <th>OthrM</th>\n",
       "      <th>OthrC</th>\n",
       "      <th>OthrP</th>\n",
       "      <th>OthrZ</th>\n",
       "      <th>UnclsNRE</th>\n",
       "      <th>UnclsNRM</th>\n",
       "      <th>UnclsNRC</th>\n",
       "      <th>UnclsNRP</th>\n",
       "      <th>UnclsNRZ</th>\n",
       "    </tr>\n",
       "  </thead>\n",
       "  <tbody>\n",
       "    <tr>\n",
       "      <th>0</th>\n",
       "      <td>NTA2010</td>\n",
       "      <td>Bath Beach</td>\n",
       "      <td>BK27</td>\n",
       "      <td>Brooklyn</td>\n",
       "      <td>11428</td>\n",
       "      <td>209.0</td>\n",
       "      <td>1.1</td>\n",
       "      <td>100.0</td>\n",
       "      <td>NaN</td>\n",
       "      <td>8207</td>\n",
       "      <td>...</td>\n",
       "      <td>15051</td>\n",
       "      <td>1186.0</td>\n",
       "      <td>4.8</td>\n",
       "      <td>45.4</td>\n",
       "      <td>3.1</td>\n",
       "      <td>6697</td>\n",
       "      <td>1100.0</td>\n",
       "      <td>10.0</td>\n",
       "      <td>20.2</td>\n",
       "      <td>3.2</td>\n",
       "    </tr>\n",
       "    <tr>\n",
       "      <th>1</th>\n",
       "      <td>NTA2010</td>\n",
       "      <td>Bay Ridge</td>\n",
       "      <td>BK31</td>\n",
       "      <td>Brooklyn</td>\n",
       "      <td>33487</td>\n",
       "      <td>442.0</td>\n",
       "      <td>0.8</td>\n",
       "      <td>100.0</td>\n",
       "      <td>NaN</td>\n",
       "      <td>18935</td>\n",
       "      <td>...</td>\n",
       "      <td>27814</td>\n",
       "      <td>1530.0</td>\n",
       "      <td>3.3</td>\n",
       "      <td>35.1</td>\n",
       "      <td>1.8</td>\n",
       "      <td>7423</td>\n",
       "      <td>806.0</td>\n",
       "      <td>6.6</td>\n",
       "      <td>9.4</td>\n",
       "      <td>1.0</td>\n",
       "    </tr>\n",
       "    <tr>\n",
       "      <th>2</th>\n",
       "      <td>NTA2010</td>\n",
       "      <td>Bedford</td>\n",
       "      <td>BK75</td>\n",
       "      <td>Brooklyn</td>\n",
       "      <td>26059</td>\n",
       "      <td>401.0</td>\n",
       "      <td>0.9</td>\n",
       "      <td>100.0</td>\n",
       "      <td>NaN</td>\n",
       "      <td>14540</td>\n",
       "      <td>...</td>\n",
       "      <td>41891</td>\n",
       "      <td>1898.0</td>\n",
       "      <td>2.8</td>\n",
       "      <td>55.6</td>\n",
       "      <td>2.0</td>\n",
       "      <td>9693</td>\n",
       "      <td>1035.0</td>\n",
       "      <td>6.5</td>\n",
       "      <td>12.9</td>\n",
       "      <td>1.3</td>\n",
       "    </tr>\n",
       "    <tr>\n",
       "      <th>3</th>\n",
       "      <td>NTA2010</td>\n",
       "      <td>Bensonhurst East</td>\n",
       "      <td>BK29</td>\n",
       "      <td>Brooklyn</td>\n",
       "      <td>22187</td>\n",
       "      <td>338.0</td>\n",
       "      <td>0.9</td>\n",
       "      <td>100.0</td>\n",
       "      <td>NaN</td>\n",
       "      <td>16276</td>\n",
       "      <td>...</td>\n",
       "      <td>34121</td>\n",
       "      <td>1732.0</td>\n",
       "      <td>3.1</td>\n",
       "      <td>53.1</td>\n",
       "      <td>2.3</td>\n",
       "      <td>9077</td>\n",
       "      <td>1007.0</td>\n",
       "      <td>6.7</td>\n",
       "      <td>14.1</td>\n",
       "      <td>1.5</td>\n",
       "    </tr>\n",
       "    <tr>\n",
       "      <th>4</th>\n",
       "      <td>NTA2010</td>\n",
       "      <td>Bensonhurst West</td>\n",
       "      <td>BK28</td>\n",
       "      <td>Brooklyn</td>\n",
       "      <td>29909</td>\n",
       "      <td>364.0</td>\n",
       "      <td>0.7</td>\n",
       "      <td>100.0</td>\n",
       "      <td>NaN</td>\n",
       "      <td>21832</td>\n",
       "      <td>...</td>\n",
       "      <td>47340</td>\n",
       "      <td>1974.0</td>\n",
       "      <td>2.5</td>\n",
       "      <td>51.7</td>\n",
       "      <td>1.8</td>\n",
       "      <td>15409</td>\n",
       "      <td>1377.0</td>\n",
       "      <td>5.4</td>\n",
       "      <td>16.8</td>\n",
       "      <td>1.5</td>\n",
       "    </tr>\n",
       "  </tbody>\n",
       "</table>\n",
       "<p>5 rows × 2714 columns</p>\n",
       "</div>"
      ],
      "text/plain": [
       "   GeoType          GeogName GeoID   Borough   HH1E   HH1M  HH1C   HH1P  HH1Z  \\\n",
       "0  NTA2010        Bath Beach  BK27  Brooklyn  11428  209.0   1.1  100.0   NaN   \n",
       "1  NTA2010         Bay Ridge  BK31  Brooklyn  33487  442.0   0.8  100.0   NaN   \n",
       "2  NTA2010           Bedford  BK75  Brooklyn  26059  401.0   0.9  100.0   NaN   \n",
       "3  NTA2010  Bensonhurst East  BK29  Brooklyn  22187  338.0   0.9  100.0   NaN   \n",
       "4  NTA2010  Bensonhurst West  BK28  Brooklyn  29909  364.0   0.7  100.0   NaN   \n",
       "\n",
       "   Fam1E    ...     OthrE   OthrM  OthrC  OthrP  OthrZ  UnclsNRE  UnclsNRM  \\\n",
       "0   8207    ...     15051  1186.0    4.8   45.4    3.1      6697    1100.0   \n",
       "1  18935    ...     27814  1530.0    3.3   35.1    1.8      7423     806.0   \n",
       "2  14540    ...     41891  1898.0    2.8   55.6    2.0      9693    1035.0   \n",
       "3  16276    ...     34121  1732.0    3.1   53.1    2.3      9077    1007.0   \n",
       "4  21832    ...     47340  1974.0    2.5   51.7    1.8     15409    1377.0   \n",
       "\n",
       "   UnclsNRC  UnclsNRP  UnclsNRZ  \n",
       "0      10.0      20.2       3.2  \n",
       "1       6.6       9.4       1.0  \n",
       "2       6.5      12.9       1.3  \n",
       "3       6.7      14.1       1.5  \n",
       "4       5.4      16.8       1.5  \n",
       "\n",
       "[5 rows x 2714 columns]"
      ]
     },
     "execution_count": 9,
     "metadata": {},
     "output_type": "execute_result"
    }
   ],
   "source": [
    "nycSoc.head()"
   ]
  },
  {
   "cell_type": "code",
   "execution_count": 10,
   "metadata": {
    "collapsed": true
   },
   "outputs": [],
   "source": [
    "filteredSoc = nycSoc[['GeogName','GeoID','Borough','EA_LT9GE','EA_9t12NDE','EA_HScGrdE','EA_SClgNDE','EA_AscDE','EA_BchDE','EA_GrdPfDE','EA_LTHSGrE','EA_BchDHE']]"
   ]
  },
  {
   "cell_type": "code",
   "execution_count": 11,
   "metadata": {},
   "outputs": [],
   "source": [
    "filteredSoc = filteredSoc.rename(index=str, columns={\"EA_LT9GE\": \"Less than 9th grade\", \n",
    "                                       \"EA_9t12NDE\": \"9th to 12th grade\", \n",
    "                                       'EA_HScGrdE' : \"High School\",\n",
    "                                       'EA_SClgNDE' : \"Some college, no degree\",\n",
    "                                       'EA_AscDE' : \"Associate degree\",\n",
    "                                       'EA_BchDE' : \"Bachelor degree\", \n",
    "                                       'EA_GrdPfDE' : \"Graduate or proffesional degree\", \n",
    "                                       'EA_LTHSGrE' : \"Less than High school\", \n",
    "                                       'EA_BchDHE' : \"Bachelor degree or higher\"})"
   ]
  },
  {
   "cell_type": "code",
   "execution_count": 12,
   "metadata": {},
   "outputs": [
    {
     "data": {
      "text/html": [
       "<div>\n",
       "<style>\n",
       "    .dataframe thead tr:only-child th {\n",
       "        text-align: right;\n",
       "    }\n",
       "\n",
       "    .dataframe thead th {\n",
       "        text-align: left;\n",
       "    }\n",
       "\n",
       "    .dataframe tbody tr th {\n",
       "        vertical-align: top;\n",
       "    }\n",
       "</style>\n",
       "<table border=\"1\" class=\"dataframe\">\n",
       "  <thead>\n",
       "    <tr style=\"text-align: right;\">\n",
       "      <th></th>\n",
       "      <th>GeogName</th>\n",
       "      <th>GeoID</th>\n",
       "      <th>Borough</th>\n",
       "      <th>Less than 9th grade</th>\n",
       "      <th>9th to 12th grade</th>\n",
       "      <th>High School</th>\n",
       "      <th>Some college, no degree</th>\n",
       "      <th>Associate degree</th>\n",
       "      <th>Bachelor degree</th>\n",
       "      <th>Graduate or proffesional degree</th>\n",
       "      <th>Less than High school</th>\n",
       "      <th>Bachelor degree or higher</th>\n",
       "    </tr>\n",
       "  </thead>\n",
       "  <tbody>\n",
       "    <tr>\n",
       "      <th>0</th>\n",
       "      <td>Bath Beach</td>\n",
       "      <td>BK27</td>\n",
       "      <td>Brooklyn</td>\n",
       "      <td>3146</td>\n",
       "      <td>2326</td>\n",
       "      <td>6188</td>\n",
       "      <td>2486</td>\n",
       "      <td>1667</td>\n",
       "      <td>5345</td>\n",
       "      <td>2664</td>\n",
       "      <td>5472</td>\n",
       "      <td>8009</td>\n",
       "    </tr>\n",
       "    <tr>\n",
       "      <th>1</th>\n",
       "      <td>Bay Ridge</td>\n",
       "      <td>BK31</td>\n",
       "      <td>Brooklyn</td>\n",
       "      <td>4106</td>\n",
       "      <td>3900</td>\n",
       "      <td>11165</td>\n",
       "      <td>8251</td>\n",
       "      <td>3746</td>\n",
       "      <td>15823</td>\n",
       "      <td>11187</td>\n",
       "      <td>8006</td>\n",
       "      <td>27010</td>\n",
       "    </tr>\n",
       "    <tr>\n",
       "      <th>2</th>\n",
       "      <td>Bedford</td>\n",
       "      <td>BK75</td>\n",
       "      <td>Brooklyn</td>\n",
       "      <td>3908</td>\n",
       "      <td>5791</td>\n",
       "      <td>11608</td>\n",
       "      <td>6838</td>\n",
       "      <td>2215</td>\n",
       "      <td>9148</td>\n",
       "      <td>5258</td>\n",
       "      <td>9699</td>\n",
       "      <td>14406</td>\n",
       "    </tr>\n",
       "    <tr>\n",
       "      <th>3</th>\n",
       "      <td>Bensonhurst East</td>\n",
       "      <td>BK29</td>\n",
       "      <td>Brooklyn</td>\n",
       "      <td>6856</td>\n",
       "      <td>4700</td>\n",
       "      <td>12871</td>\n",
       "      <td>4433</td>\n",
       "      <td>3262</td>\n",
       "      <td>9412</td>\n",
       "      <td>4476</td>\n",
       "      <td>11556</td>\n",
       "      <td>13888</td>\n",
       "    </tr>\n",
       "    <tr>\n",
       "      <th>4</th>\n",
       "      <td>Bensonhurst West</td>\n",
       "      <td>BK28</td>\n",
       "      <td>Brooklyn</td>\n",
       "      <td>11095</td>\n",
       "      <td>7191</td>\n",
       "      <td>18127</td>\n",
       "      <td>6748</td>\n",
       "      <td>4796</td>\n",
       "      <td>12275</td>\n",
       "      <td>4784</td>\n",
       "      <td>18286</td>\n",
       "      <td>17059</td>\n",
       "    </tr>\n",
       "  </tbody>\n",
       "</table>\n",
       "</div>"
      ],
      "text/plain": [
       "           GeogName GeoID   Borough  Less than 9th grade  9th to 12th grade  \\\n",
       "0        Bath Beach  BK27  Brooklyn                 3146               2326   \n",
       "1         Bay Ridge  BK31  Brooklyn                 4106               3900   \n",
       "2           Bedford  BK75  Brooklyn                 3908               5791   \n",
       "3  Bensonhurst East  BK29  Brooklyn                 6856               4700   \n",
       "4  Bensonhurst West  BK28  Brooklyn                11095               7191   \n",
       "\n",
       "   High School  Some college, no degree  Associate degree  Bachelor degree  \\\n",
       "0         6188                     2486              1667             5345   \n",
       "1        11165                     8251              3746            15823   \n",
       "2        11608                     6838              2215             9148   \n",
       "3        12871                     4433              3262             9412   \n",
       "4        18127                     6748              4796            12275   \n",
       "\n",
       "   Graduate or proffesional degree  Less than High school  \\\n",
       "0                             2664                   5472   \n",
       "1                            11187                   8006   \n",
       "2                             5258                   9699   \n",
       "3                             4476                  11556   \n",
       "4                             4784                  18286   \n",
       "\n",
       "   Bachelor degree or higher  \n",
       "0                       8009  \n",
       "1                      27010  \n",
       "2                      14406  \n",
       "3                      13888  \n",
       "4                      17059  "
      ]
     },
     "execution_count": 12,
     "metadata": {},
     "output_type": "execute_result"
    }
   ],
   "source": [
    "filteredSoc.head()"
   ]
  },
  {
   "cell_type": "code",
   "execution_count": 13,
   "metadata": {
    "collapsed": true
   },
   "outputs": [],
   "source": [
    "filteredSoc.to_csv(r'C:\\Users\\LenovoPC1\\Documents\\Social Data Analysis\\Finale Project\\DegreeNYC.csv', index = False)"
   ]
  },
  {
   "cell_type": "code",
   "execution_count": 14,
   "metadata": {},
   "outputs": [],
   "source": [
    "#filteredShootings['VIC_RACE'].unique()"
   ]
  },
  {
   "cell_type": "code",
   "execution_count": 15,
   "metadata": {},
   "outputs": [],
   "source": [
    "nycPop = nycDemo[['GeogName','GeoID','Borough','Pop_2E']]"
   ]
  },
  {
   "cell_type": "code",
   "execution_count": 16,
   "metadata": {},
   "outputs": [],
   "source": [
    "nycPop = nycPop.rename(index=str, columns={'Pop_2E' : 'NTA_Population'})"
   ]
  },
  {
   "cell_type": "code",
   "execution_count": 17,
   "metadata": {},
   "outputs": [],
   "source": [
    "nycPop.to_csv(r'C:\\Users\\LenovoPC1\\Documents\\Social Data Analysis\\Finale Project\\PopulationNYC.csv', index = False)"
   ]
  },
  {
   "cell_type": "code",
   "execution_count": 18,
   "metadata": {},
   "outputs": [],
   "source": [
    "#districtData = pd.DataFrame(columns=['Precinct', 'Total Population', 'White'])\n",
    "#for index, row in ntaToDist.iterrows():\n",
    "#    for index2, row2 in filteredSoc.iterrows():\n",
    "#        if row[\"NTAName\"] == row2[\"GeogName\"]:\n",
    "#            print(districtData[\"Precinct\"])"
   ]
  },
  {
   "cell_type": "code",
   "execution_count": 19,
   "metadata": {},
   "outputs": [],
   "source": [
    "#prepShootings.groupby(\"PERP_RACE\").size()"
   ]
  },
  {
   "cell_type": "code",
   "execution_count": 20,
   "metadata": {},
   "outputs": [],
   "source": [
    "#victimShootings.groupby('VIC_RACE').size()"
   ]
  },
  {
   "cell_type": "code",
   "execution_count": 21,
   "metadata": {},
   "outputs": [],
   "source": [
    "#prepShootings.count()"
   ]
  }
 ],
 "metadata": {
  "kernelspec": {
   "display_name": "Python 3",
   "language": "python",
   "name": "python3"
  },
  "language_info": {
   "codemirror_mode": {
    "name": "ipython",
    "version": 3
   },
   "file_extension": ".py",
   "mimetype": "text/x-python",
   "name": "python",
   "nbconvert_exporter": "python",
   "pygments_lexer": "ipython3",
   "version": "3.6.7"
  }
 },
 "nbformat": 4,
 "nbformat_minor": 2
}
